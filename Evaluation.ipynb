{
 "cells": [
  {
   "cell_type": "code",
   "execution_count": 1,
   "metadata": {},
   "outputs": [],
   "source": [
    "import os\n",
    "import torch\n",
    "import torch.nn as nn\n",
    "import torchvision.transforms as transforms\n",
    "from torchvision.datasets import ImageFolder\n",
    "from torch.utils.data import DataLoader\n",
    "from sklearn.metrics import confusion_matrix, accuracy_score, precision_score, recall_score, f1_score\n",
    "import numpy as np\n",
    "import pandas as pd\n",
    "import matplotlib.pyplot as plt\n",
    "from PIL import Image"
   ]
  },
  {
   "cell_type": "code",
   "execution_count": null,
   "metadata": {},
   "outputs": [],
   "source": [
    "# Set the device to MPS if available, otherwise use CPU\n",
    "device = torch.device(\"mps\") if torch.backends.mps.is_available() else torch.device(\"cpu\")\n",
    "print(f\"Using device: {device}\")\n",
    "\n",
    "# Prepare the data with appropriate augmentations for the test set\n",
    "transform = transforms.Compose([\n",
    "    transforms.Resize((96, 96)),\n",
    "    transforms.ToTensor(),\n",
    "    transforms.Normalize(mean=[0.485, 0.456, 0.406], std=[0.229, 0.224, 0.225])\n",
    "])\n",
    "\n",
    "test_dataset = ImageFolder(root='./database/test', transform=transform)\n",
    "test_loader = DataLoader(test_dataset, batch_size=32, shuffle=False)"
   ]
  },
  {
   "cell_type": "code",
   "execution_count": null,
   "metadata": {},
   "outputs": [],
   "source": [
    "# Define the evaluation function\n",
    "def evaluate_model(model, test_loader):\n",
    "    model.eval()\n",
    "    test_targets = []\n",
    "    test_outputs = []\n",
    "\n",
    "    with torch.no_grad():\n",
    "        for inputs, labels in test_loader:\n",
    "            inputs, labels = inputs.to(device), labels.to(device)\n",
    "            outputs = model(inputs)\n",
    "            _, preds = torch.max(outputs, 1)\n",
    "            test_targets.extend(labels.cpu().numpy())\n",
    "            test_outputs.extend(preds.cpu().numpy())\n",
    "\n",
    "    # Calculate metrics\n",
    "    test_targets = np.array(test_targets)\n",
    "    test_outputs = np.array(test_outputs)\n",
    "    cm = confusion_matrix(test_targets, test_outputs)\n",
    "    accuracy = accuracy_score(test_targets, test_outputs)\n",
    "    precision_micro = precision_score(test_targets, test_outputs, average='micro')\n",
    "    recall_micro = recall_score(test_targets, test_outputs, average='micro')\n",
    "    f1_micro = f1_score(test_targets, test_outputs, average='micro')\n",
    "    precision_macro = precision_score(test_targets, test_outputs, average='macro')\n",
    "    recall_macro = recall_score(test_targets, test_outputs, average='macro')\n",
    "    f1_macro = f1_score(test_targets, test_outputs, average='macro')\n",
    "\n",
    "    print(f'Accuracy: {accuracy:.4f}')\n",
    "    print(f'Precision (Micro): {precision_micro:.4f}')\n",
    "    print(f'Recall (Micro): {recall_micro:.4f}')\n",
    "    print(f'F1 Score (Micro): {f1_micro:.4f}')\n",
    "    print(f'Precision (Macro): {precision_macro:.4f}')\n",
    "    print(f'Recall (Macro): {recall_macro:.4f}')\n",
    "    print(f'F1 Score (Macro): {f1_macro:.4f}')\n",
    "\n",
    "    # Plot confusion matrix\n",
    "    plt.figure(figsize=(10, 8))\n",
    "    sns.heatmap(cm, annot=True, fmt=\"d\", cmap=\"Blues\", xticklabels=test_dataset.classes, yticklabels=test_dataset.classes)\n",
    "    plt.xlabel('Predicted')\n",
    "    plt.ylabel('True')\n",
    "    plt.title('Confusion Matrix')\n",
    "    plt.show()"
   ]
  },
  {
   "cell_type": "code",
   "execution_count": null,
   "metadata": {},
   "outputs": [],
   "source": [
    "# Load the trained model\n",
    "model = CustomCNN().to(device)\n",
    "model.load_state_dict(torch.load('models/best_model.pth'))\n",
    "\n",
    "# Evaluate the model\n",
    "evaluate_model(model, test_loader)"
   ]
  }
 ],
 "metadata": {
  "kernelspec": {
   "display_name": "Python 3",
   "language": "python",
   "name": "python3"
  },
  "language_info": {
   "codemirror_mode": {
    "name": "ipython",
    "version": 3
   },
   "file_extension": ".py",
   "mimetype": "text/x-python",
   "name": "python",
   "nbconvert_exporter": "python",
   "pygments_lexer": "ipython3",
   "version": "3.11.9"
  }
 },
 "nbformat": 4,
 "nbformat_minor": 2
}
