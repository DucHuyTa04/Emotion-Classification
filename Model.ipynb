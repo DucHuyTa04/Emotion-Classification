{
 "cells": [
  {
   "cell_type": "code",
   "execution_count": 1,
   "id": "b33ccc05-a2b4-4645-b88e-de2dfe59d3a9",
   "metadata": {},
   "outputs": [],
   "source": [
    "# Import libraries\n",
    "import os\n",
    "import shutil\n",
    "import pandas as pd\n",
    "from sklearn.model_selection import train_test_split"
   ]
  },
  {
   "cell_type": "code",
   "execution_count": 2,
   "id": "f24fc233-10db-4a1c-a525-4a0640baf4a0",
   "metadata": {},
   "outputs": [
    {
     "name": "stdout",
     "output_type": "stream",
     "text": [
      "Files have been distributed into train and test directories.\n"
     ]
    }
   ],
   "source": [
    "# Split into training and testing\n",
    "\n",
    "# Load the labels from the Excel file\n",
    "labels_path = './Facial Database/labels.csv'\n",
    "labels_df = pd.read_csv(labels_path)\n",
    "\n",
    "# Split the data into training and testing sets (80%-20%)\n",
    "train_df, test_df = train_test_split(labels_df, test_size=0.2, random_state=42)\n",
    "\n",
    "train_dir = './database/train'\n",
    "test_dir = './database/test'\n",
    "\n",
    "os.makedirs(train_dir, exist_ok=True)\n",
    "os.makedirs(test_dir, exist_ok=True)\n",
    "\n",
    "# Create subdirectories for each label\n",
    "for label in labels_df['label'].unique():\n",
    "    os.makedirs(os.path.join(train_dir, label), exist_ok=True)\n",
    "    os.makedirs(os.path.join(test_dir, label), exist_ok=True)\n",
    "\n",
    "def move_images(dataframe, split_dir):\n",
    "    for index, row in dataframe.iterrows():\n",
    "        src_path = os.path.join('./Facial Database', row['pth'])  # Ensure this path is correct\n",
    "        dst_path = os.path.join(split_dir, row['label'], os.path.basename(row['pth']))  # Use basename to avoid directory duplication\n",
    "        if os.path.exists(src_path):  # Check if the source file exists\n",
    "            shutil.copy2(src_path, dst_path)\n",
    "        else:\n",
    "            print(f\"File {src_path} does not exist.\")  # Debugging line to check missing files\n",
    "\n",
    "# Move images to train and test directories\n",
    "move_images(train_df, train_dir)\n",
    "move_images(test_df, test_dir)\n",
    "\n",
    "print(\"Files have been distributed into train and test directories.\")"
   ]
  },
  {
   "cell_type": "code",
   "execution_count": null,
   "id": "b1901b6d-a3a0-4cf0-965d-fe1dd6530ec7",
   "metadata": {},
   "outputs": [],
   "source": []
  }
 ],
 "metadata": {
  "kernelspec": {
   "display_name": "Python 3 (ipykernel)",
   "language": "python",
   "name": "python3"
  },
  "language_info": {
   "codemirror_mode": {
    "name": "ipython",
    "version": 3
   },
   "file_extension": ".py",
   "mimetype": "text/x-python",
   "name": "python",
   "nbconvert_exporter": "python",
   "pygments_lexer": "ipython3",
   "version": "3.11.9"
  }
 },
 "nbformat": 4,
 "nbformat_minor": 5
}
